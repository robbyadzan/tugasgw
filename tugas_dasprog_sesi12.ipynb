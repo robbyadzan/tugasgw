{
 "cells": [
  {
   "cell_type": "code",
   "execution_count": 2,
   "id": "d535fc54-fc19-4e86-b6d4-6ba31fab2b6f",
   "metadata": {},
   "outputs": [],
   "source": [
    "# aritmatika.py\n",
    "\n",
    "def penjumlahan(a, b):\n",
    "    return a + b\n",
    "\n",
    "def perpangkatan(a, b):\n",
    "    return a ** b\n",
    "\n",
    "def perkalian(a, b):\n",
    "    return a * b\n",
    "\n",
    "def menu_aritmatika():\n",
    "    while True:\n",
    "        print(\"\\n-- Menu Aritmatika --\")\n",
    "        print(\"1. Penjumlahan\")\n",
    "        print(\"2. Perpangkatan\")\n",
    "        print(\"3. Perkalian\")\n",
    "        print(\"4. Kembali ke Menu Utama\")\n",
    "        pilihan = input(\"Pilih operasi (1-4): \")\n",
    "        \n",
    "        if pilihan == '4':\n",
    "            break\n",
    "        if pilihan not in ['1', '2', '3']:\n",
    "            print(\"Pilihan tidak valid, coba lagi.\")\n",
    "            continue\n",
    "        \n",
    "        try:\n",
    "            a = float(input(\"Masukkan bilangan pertama: \"))\n",
    "            b = float(input(\"Masukkan bilangan kedua: \"))\n",
    "        except ValueError:\n",
    "            print(\"Input harus angka!\")\n",
    "            continue\n",
    "        \n",
    "        if pilihan == '1':\n",
    "            hasil = penjumlahan(a, b)\n",
    "            print(f\"Hasil penjumlahan: {hasil}\")\n",
    "        elif pilihan == '2':\n",
    "            hasil = perpangkatan(a, b)\n",
    "            print(f\"Hasil perpangkatan: {hasil}\")\n",
    "        elif pilihan == '3':\n",
    "            hasil = perkalian(a, b)\n",
    "            print(f\"Hasil perkalian: {hasil}\")"
   ]
  },
  {
   "cell_type": "code",
   "execution_count": 5,
   "id": "2709add3-b6a6-405c-bb0d-05335610c261",
   "metadata": {},
   "outputs": [],
   "source": [
    "# konversi.py\n",
    "\n",
    "def cm_to_m(cm):\n",
    "    return cm / 100\n",
    "\n",
    "def m_to_cm(m):\n",
    "    return m * 100\n",
    "\n",
    "def menu_konversi():\n",
    "    while True:\n",
    "        print(\"\\n-- Menu Konversi --\")\n",
    "        print(\"1. CM to M\")\n",
    "        print(\"2. M to CM\")\n",
    "        print(\"3. Kembali ke Menu Utama\")\n",
    "        pilihan = input(\"Pilih konversi (1-3): \")\n",
    "        \n",
    "        if pilihan == '3':\n",
    "            break\n",
    "        if pilihan not in ['1', '2']:\n",
    "            print(\"Pilihan tidak valid, coba lagi.\")\n",
    "            continue\n",
    "        \n",
    "        try:\n",
    "            nilai = float(input(\"Masukkan nilai desimal: \"))\n",
    "        except ValueError:\n",
    "            print(\"Input harus angka!\")\n",
    "            continue\n",
    "        \n",
    "        if pilihan == '1':\n",
    "            hasil = cm_to_m(nilai)\n",
    "            print(f\"{nilai} cm = {hasil} m\")\n",
    "        elif pilihan == '2':\n",
    "            hasil = m_to_cm(nilai)\n",
    "            print(f\"{nilai} m = {hasil} cm\")"
   ]
  },
  {
   "cell_type": "code",
   "execution_count": 6,
   "id": "886b3764-b0aa-4eb0-8910-40b5698c036a",
   "metadata": {},
   "outputs": [],
   "source": [
    "# ubah_bilangan.py\n",
    "\n",
    "def desimal_to_biner(n):\n",
    "    return bin(n)[2:]\n",
    "\n",
    "def desimal_to_oktal(n):\n",
    "    return oct(n)[2:]\n",
    "\n",
    "def desimal_to_heksadesimal(n):\n",
    "    return hex(n)[2:].upper()\n",
    "\n",
    "def menu_ubah_bilangan():\n",
    "    while True:\n",
    "        print(\"\\n-- Menu Ubah Bilangan --\")\n",
    "        print(\"1. Desimal to Biner\")\n",
    "        print(\"2. Desimal to Oktal\")\n",
    "        print(\"3. Desimal to Hexadesimal\")\n",
    "        print(\"4. Kembali ke Menu Utama\")\n",
    "        pilihan = input(\"Pilih konversi (1-4): \")\n",
    "        \n",
    "        if pilihan == '4':\n",
    "            break\n",
    "        if pilihan not in ['1', '2', '3']:\n",
    "            print(\"Pilihan tidak valid, coba lagi.\")\n",
    "            continue\n",
    "        \n",
    "        try:\n",
    "            n = int(input(\"Masukkan bilangan desimal (integer): \"))\n",
    "        except ValueError:\n",
    "            print(\"Input harus bilangan bulat!\")\n",
    "            continue\n",
    "        \n",
    "        if pilihan == '1':\n",
    "            hasil = desimal_to_biner(n)\n",
    "            print(f\"Desimal {n} ke Biner = {hasil}\")\n",
    "        elif pilihan == '2':\n",
    "            hasil = desimal_to_oktal(n)\n",
    "            print(f\"Desimal {n} ke Oktal = {hasil}\")\n",
    "        elif pilihan == '3':\n",
    "            hasil = desimal_to_heksadesimal(n)\n",
    "            print(f\"Desimal {n} ke Hexadesimal = {hasil}\")"
   ]
  },
  {
   "cell_type": "code",
   "execution_count": 3,
   "id": "4a622a25-b57e-42f0-b7f5-674178d4c228",
   "metadata": {},
   "outputs": [
    {
     "name": "stdout",
     "output_type": "stream",
     "text": [
      "\n",
      "=== Menu Utama ===\n",
      "1. Aritmatika\n",
      "2. Konversi\n",
      "3. Ubah Bilangan\n",
      "4. Keluar\n"
     ]
    },
    {
     "name": "stdin",
     "output_type": "stream",
     "text": [
      "Pilih menu (1-4):  1\n"
     ]
    },
    {
     "name": "stdout",
     "output_type": "stream",
     "text": [
      "\n",
      "-- Menu Aritmatika --\n",
      "1. Penjumlahan\n",
      "2. Perpangkatan\n",
      "3. Perkalian\n",
      "4. Kembali ke Menu Utama\n"
     ]
    },
    {
     "name": "stdin",
     "output_type": "stream",
     "text": [
      "Pilih operasi (1-4):  1\n",
      "Masukkan bilangan pertama:  12\n",
      "Masukkan bilangan kedua:  145\n"
     ]
    },
    {
     "name": "stdout",
     "output_type": "stream",
     "text": [
      "Hasil penjumlahan: 157.0\n",
      "\n",
      "-- Menu Aritmatika --\n",
      "1. Penjumlahan\n",
      "2. Perpangkatan\n",
      "3. Perkalian\n",
      "4. Kembali ke Menu Utama\n"
     ]
    },
    {
     "name": "stdin",
     "output_type": "stream",
     "text": [
      "Pilih operasi (1-4):  4\n"
     ]
    },
    {
     "name": "stdout",
     "output_type": "stream",
     "text": [
      "\n",
      "=== Menu Utama ===\n",
      "1. Aritmatika\n",
      "2. Konversi\n",
      "3. Ubah Bilangan\n",
      "4. Keluar\n"
     ]
    },
    {
     "name": "stdin",
     "output_type": "stream",
     "text": [
      "Pilih menu (1-4):  2\n"
     ]
    },
    {
     "name": "stdout",
     "output_type": "stream",
     "text": [
      "\n",
      "-- Menu Konversi --\n",
      "1. CM to M\n",
      "2. M to CM\n",
      "3. Kembali ke Menu Utama\n"
     ]
    },
    {
     "name": "stdin",
     "output_type": "stream",
     "text": [
      "Pilih konversi (1-3):  1\n",
      "Masukkan nilai desimal:  12\n"
     ]
    },
    {
     "name": "stdout",
     "output_type": "stream",
     "text": [
      "12.0 cm = 0.12 m\n",
      "\n",
      "-- Menu Konversi --\n",
      "1. CM to M\n",
      "2. M to CM\n",
      "3. Kembali ke Menu Utama\n"
     ]
    },
    {
     "name": "stdin",
     "output_type": "stream",
     "text": [
      "Pilih konversi (1-3):  3\n"
     ]
    },
    {
     "name": "stdout",
     "output_type": "stream",
     "text": [
      "\n",
      "=== Menu Utama ===\n",
      "1. Aritmatika\n",
      "2. Konversi\n",
      "3. Ubah Bilangan\n",
      "4. Keluar\n"
     ]
    },
    {
     "name": "stdin",
     "output_type": "stream",
     "text": [
      "Pilih menu (1-4):  3\n"
     ]
    },
    {
     "name": "stdout",
     "output_type": "stream",
     "text": [
      "\n",
      "-- Menu Ubah Bilangan --\n",
      "1. Desimal to Biner\n",
      "2. Desimal to Oktal\n",
      "3. Desimal to Hexadesimal\n",
      "4. Kembali ke Menu Utama\n"
     ]
    },
    {
     "name": "stdin",
     "output_type": "stream",
     "text": [
      "Pilih konversi (1-4):  1\n",
      "Masukkan bilangan desimal (integer):  24\n"
     ]
    },
    {
     "name": "stdout",
     "output_type": "stream",
     "text": [
      "Desimal 24 ke Biner = 11000\n",
      "\n",
      "-- Menu Ubah Bilangan --\n",
      "1. Desimal to Biner\n",
      "2. Desimal to Oktal\n",
      "3. Desimal to Hexadesimal\n",
      "4. Kembali ke Menu Utama\n"
     ]
    },
    {
     "name": "stdin",
     "output_type": "stream",
     "text": [
      "Pilih konversi (1-4):  4\n"
     ]
    },
    {
     "name": "stdout",
     "output_type": "stream",
     "text": [
      "\n",
      "=== Menu Utama ===\n",
      "1. Aritmatika\n",
      "2. Konversi\n",
      "3. Ubah Bilangan\n",
      "4. Keluar\n"
     ]
    },
    {
     "name": "stdin",
     "output_type": "stream",
     "text": [
      "Pilih menu (1-4):  4\n"
     ]
    },
    {
     "name": "stdout",
     "output_type": "stream",
     "text": [
      "Terima kasih telah menggunakan program ini.\n"
     ]
    }
   ],
   "source": [
    "def penjumlahan(a, b):\n",
    "    return a + b\n",
    "\n",
    "def perpangkatan(a, b):\n",
    "    return a ** b\n",
    "\n",
    "def perkalian(a, b):\n",
    "    return a * b\n",
    "\n",
    "def cm_to_m(cm):\n",
    "    return cm / 100\n",
    "\n",
    "def m_to_cm(m):\n",
    "    return m * 100\n",
    "\n",
    "def desimal_to_biner(n):\n",
    "    return bin(n)[2:]\n",
    "\n",
    "def desimal_to_oktal(n):\n",
    "    return oct(n)[2:]\n",
    "\n",
    "def desimal_to_heksadesimal(n):\n",
    "    return hex(n)[2:].upper()\n",
    "\n",
    "def menu_aritmatika():\n",
    "    while True:\n",
    "        print(\"\\n-- Menu Aritmatika --\")\n",
    "        print(\"1. Penjumlahan\")\n",
    "        print(\"2. Perpangkatan\")\n",
    "        print(\"3. Perkalian\")\n",
    "        print(\"4. Kembali ke Menu Utama\")\n",
    "        pilihan = input(\"Pilih operasi (1-4): \")\n",
    "        \n",
    "        if pilihan == '4':\n",
    "            break\n",
    "        if pilihan not in ['1', '2', '3']:\n",
    "            print(\"Pilihan tidak valid, coba lagi.\")\n",
    "            continue\n",
    "        \n",
    "        try:\n",
    "            a = float(input(\"Masukkan bilangan pertama: \"))\n",
    "            b = float(input(\"Masukkan bilangan kedua: \"))\n",
    "        except ValueError:\n",
    "            print(\"Input harus angka!\")\n",
    "            continue\n",
    "        \n",
    "        if pilihan == '1':\n",
    "            hasil = penjumlahan(a, b)\n",
    "            print(f\"Hasil penjumlahan: {hasil}\")\n",
    "        elif pilihan == '2':\n",
    "            hasil = perpangkatan(a, b)\n",
    "            print(f\"Hasil perpangkatan: {hasil}\")\n",
    "        elif pilihan == '3':\n",
    "            hasil = perkalian(a, b)\n",
    "            print(f\"Hasil perkalian: {hasil}\")\n",
    "\n",
    "def menu_konversi():\n",
    "    while True:\n",
    "        print(\"\\n-- Menu Konversi --\")\n",
    "        print(\"1. CM to M\")\n",
    "        print(\"2. M to CM\")\n",
    "        print(\"3. Kembali ke Menu Utama\")\n",
    "        pilihan = input(\"Pilih konversi (1-3): \")\n",
    "        \n",
    "        if pilihan == '3':\n",
    "            break\n",
    "        if pilihan not in ['1', '2']:\n",
    "            print(\"Pilihan tidak valid, coba lagi.\")\n",
    "            continue\n",
    "        \n",
    "        try:\n",
    "            nilai = float(input(\"Masukkan nilai desimal: \"))\n",
    "        except ValueError:\n",
    "            print(\"Input harus angka!\")\n",
    "            continue\n",
    "        \n",
    "        if pilihan == '1':\n",
    "            hasil = cm_to_m(nilai)\n",
    "            print(f\"{nilai} cm = {hasil} m\")\n",
    "        elif pilihan == '2':\n",
    "            hasil = m_to_cm(nilai)\n",
    "            print(f\"{nilai} m = {hasil} cm\")\n",
    "\n",
    "def menu_ubah_bilangan():\n",
    "    while True:\n",
    "        print(\"\\n-- Menu Ubah Bilangan --\")\n",
    "        print(\"1. Desimal to Biner\")\n",
    "        print(\"2. Desimal to Oktal\")\n",
    "        print(\"3. Desimal to Hexadesimal\")\n",
    "        print(\"4. Kembali ke Menu Utama\")\n",
    "        pilihan = input(\"Pilih konversi (1-4): \")\n",
    "        \n",
    "        if pilihan == '4':\n",
    "            break\n",
    "        if pilihan not in ['1', '2', '3']:\n",
    "            print(\"Pilihan tidak valid, coba lagi.\")\n",
    "            continue\n",
    "        \n",
    "        try:\n",
    "            n = int(input(\"Masukkan bilangan desimal (integer): \"))\n",
    "        except ValueError:\n",
    "            print(\"Input harus bilangan bulat!\")\n",
    "            continue\n",
    "        \n",
    "        if pilihan == '1':\n",
    "            hasil = desimal_to_biner(n)\n",
    "            print(f\"Desimal {n} ke Biner = {hasil}\")\n",
    "        elif pilihan == '2':\n",
    "            hasil = desimal_to_oktal(n)\n",
    "            print(f\"Desimal {n} ke Oktal = {hasil}\")\n",
    "        elif pilihan == '3':\n",
    "            hasil = desimal_to_heksadesimal(n)\n",
    "            print(f\"Desimal {n} ke Hexadesimal = {hasil}\")\n",
    "\n",
    "def main():\n",
    "    while True:\n",
    "        print(\"\\n=== Menu Utama ===\")\n",
    "        print(\"1. Aritmatika\")\n",
    "        print(\"2. Konversi\")\n",
    "        print(\"3. Ubah Bilangan\")\n",
    "        print(\"4. Keluar\")\n",
    "        pilihan = input(\"Pilih menu (1-4): \")\n",
    "        \n",
    "        if pilihan == '1':\n",
    "            menu_aritmatika()\n",
    "        elif pilihan == '2':\n",
    "            menu_konversi()\n",
    "        elif pilihan == '3':\n",
    "            menu_ubah_bilangan()\n",
    "        elif pilihan == '4':\n",
    "            print(\"Terima kasih telah menggunakan program ini.\")\n",
    "            break\n",
    "        else:\n",
    "            print(\"Pilihan tidak valid, coba lagi.\")\n",
    "\n",
    "if __name__ == \"__main__\":\n",
    "    main()"
   ]
  }
 ],
 "metadata": {
  "kernelspec": {
   "display_name": "Python [conda env:base] *",
   "language": "python",
   "name": "conda-base-py"
  },
  "language_info": {
   "codemirror_mode": {
    "name": "ipython",
    "version": 3
   },
   "file_extension": ".py",
   "mimetype": "text/x-python",
   "name": "python",
   "nbconvert_exporter": "python",
   "pygments_lexer": "ipython3",
   "version": "3.12.7"
  }
 },
 "nbformat": 4,
 "nbformat_minor": 5
}
